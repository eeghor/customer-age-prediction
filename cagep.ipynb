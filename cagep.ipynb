{
 "cells": [
  {
   "cell_type": "code",
   "execution_count": 1,
   "metadata": {
    "collapsed": true
   },
   "outputs": [],
   "source": [
    "import pandas as pd\n",
    "import time"
   ]
  },
  {
   "cell_type": "code",
   "execution_count": 8,
   "metadata": {},
   "outputs": [],
   "source": [
    "d = pd.read_csv(\"data/training_data.csv.gz\", compression=\"gzip\",\n",
    "               dtype={\"age_gr\": str, \"ev_code\": str, \"mtype_sec\": str, \"event_id\": str})"
   ]
  },
  {
   "cell_type": "code",
   "execution_count": 9,
   "metadata": {},
   "outputs": [
    {
     "name": "stdout",
     "output_type": "stream",
     "text": [
      "transactions: 18609023, unique customers: 5684182\n"
     ]
    }
   ],
   "source": [
    "print(\"transactions: {}, unique customers: {}\".format(len(d), d.cust_id.nunique()))"
   ]
  },
  {
   "cell_type": "code",
   "execution_count": 10,
   "metadata": {},
   "outputs": [
    {
     "data": {
      "text/html": [
       "<div>\n",
       "<table border=\"1\" class=\"dataframe\">\n",
       "  <thead>\n",
       "    <tr style=\"text-align: right;\">\n",
       "      <th></th>\n",
       "      <th>cust_id</th>\n",
       "      <th>name</th>\n",
       "      <th>surname</th>\n",
       "      <th>dob_y</th>\n",
       "      <th>dob_m</th>\n",
       "      <th>dob_d</th>\n",
       "      <th>acc_y</th>\n",
       "      <th>mj_tnum</th>\n",
       "      <th>perf_y</th>\n",
       "      <th>perf_m</th>\n",
       "      <th>...</th>\n",
       "      <th>purch_m</th>\n",
       "      <th>paid_tix</th>\n",
       "      <th>free_tix</th>\n",
       "      <th>paid</th>\n",
       "      <th>event_id</th>\n",
       "      <th>mtype_sec</th>\n",
       "      <th>ev_code</th>\n",
       "      <th>age_tp</th>\n",
       "      <th>age_ta</th>\n",
       "      <th>age_gr</th>\n",
       "    </tr>\n",
       "  </thead>\n",
       "  <tbody>\n",
       "    <tr>\n",
       "      <th>0</th>\n",
       "      <td>10995205</td>\n",
       "      <td>peter</td>\n",
       "      <td>coumbiadis</td>\n",
       "      <td>1974</td>\n",
       "      <td>9</td>\n",
       "      <td>2</td>\n",
       "      <td>2009</td>\n",
       "      <td>8813</td>\n",
       "      <td>2015</td>\n",
       "      <td>8</td>\n",
       "      <td>...</td>\n",
       "      <td>8</td>\n",
       "      <td>2</td>\n",
       "      <td>0.0</td>\n",
       "      <td>54.40</td>\n",
       "      <td>281282</td>\n",
       "      <td>LEAGUE</td>\n",
       "      <td>EOKI0000015D</td>\n",
       "      <td>41</td>\n",
       "      <td>35</td>\n",
       "      <td>40-44</td>\n",
       "    </tr>\n",
       "    <tr>\n",
       "      <th>1</th>\n",
       "      <td>12663067</td>\n",
       "      <td>emily</td>\n",
       "      <td>payne</td>\n",
       "      <td>1980</td>\n",
       "      <td>8</td>\n",
       "      <td>16</td>\n",
       "      <td>2010</td>\n",
       "      <td>40865</td>\n",
       "      <td>2015</td>\n",
       "      <td>4</td>\n",
       "      <td>...</td>\n",
       "      <td>4</td>\n",
       "      <td>1</td>\n",
       "      <td>0.0</td>\n",
       "      <td>31.50</td>\n",
       "      <td>279088</td>\n",
       "      <td>SOCCER</td>\n",
       "      <td>EMVC2015706</td>\n",
       "      <td>35</td>\n",
       "      <td>30</td>\n",
       "      <td>35-39</td>\n",
       "    </tr>\n",
       "    <tr>\n",
       "      <th>2</th>\n",
       "      <td>13852676</td>\n",
       "      <td>renee</td>\n",
       "      <td>blandin de chalain</td>\n",
       "      <td>1989</td>\n",
       "      <td>5</td>\n",
       "      <td>10</td>\n",
       "      <td>2011</td>\n",
       "      <td>92757</td>\n",
       "      <td>2014</td>\n",
       "      <td>9</td>\n",
       "      <td>...</td>\n",
       "      <td>9</td>\n",
       "      <td>3</td>\n",
       "      <td>0.0</td>\n",
       "      <td>140.50</td>\n",
       "      <td>279738</td>\n",
       "      <td>AFL</td>\n",
       "      <td>ESSW0000014QF</td>\n",
       "      <td>25</td>\n",
       "      <td>22</td>\n",
       "      <td>25-29</td>\n",
       "    </tr>\n",
       "    <tr>\n",
       "      <th>3</th>\n",
       "      <td>3735954</td>\n",
       "      <td>melanie</td>\n",
       "      <td>pring</td>\n",
       "      <td>1990</td>\n",
       "      <td>4</td>\n",
       "      <td>9</td>\n",
       "      <td>2003</td>\n",
       "      <td>25650</td>\n",
       "      <td>2014</td>\n",
       "      <td>9</td>\n",
       "      <td>...</td>\n",
       "      <td>9</td>\n",
       "      <td>2</td>\n",
       "      <td>0.0</td>\n",
       "      <td>120.35</td>\n",
       "      <td>279738</td>\n",
       "      <td>AFL</td>\n",
       "      <td>ESSW0000014QF</td>\n",
       "      <td>24</td>\n",
       "      <td>13</td>\n",
       "      <td>18-24</td>\n",
       "    </tr>\n",
       "    <tr>\n",
       "      <th>4</th>\n",
       "      <td>16576858</td>\n",
       "      <td>trish</td>\n",
       "      <td>simunovic</td>\n",
       "      <td>1971</td>\n",
       "      <td>11</td>\n",
       "      <td>28</td>\n",
       "      <td>2013</td>\n",
       "      <td>84</td>\n",
       "      <td>2014</td>\n",
       "      <td>10</td>\n",
       "      <td>...</td>\n",
       "      <td>10</td>\n",
       "      <td>4</td>\n",
       "      <td>0.0</td>\n",
       "      <td>109.95</td>\n",
       "      <td>281309</td>\n",
       "      <td>SOCCER</td>\n",
       "      <td>ECMR2014906</td>\n",
       "      <td>43</td>\n",
       "      <td>42</td>\n",
       "      <td>40-44</td>\n",
       "    </tr>\n",
       "  </tbody>\n",
       "</table>\n",
       "<p>5 rows × 21 columns</p>\n",
       "</div>"
      ],
      "text/plain": [
       "    cust_id     name             surname  dob_y  dob_m  dob_d  acc_y  mj_tnum  \\\n",
       "0  10995205    peter          coumbiadis   1974      9      2   2009     8813   \n",
       "1  12663067    emily               payne   1980      8     16   2010    40865   \n",
       "2  13852676    renee  blandin de chalain   1989      5     10   2011    92757   \n",
       "3   3735954  melanie               pring   1990      4      9   2003    25650   \n",
       "4  16576858    trish           simunovic   1971     11     28   2013       84   \n",
       "\n",
       "   perf_y  perf_m   ...    purch_m  paid_tix  free_tix    paid  event_id  \\\n",
       "0    2015       8   ...          8         2       0.0   54.40    281282   \n",
       "1    2015       4   ...          4         1       0.0   31.50    279088   \n",
       "2    2014       9   ...          9         3       0.0  140.50    279738   \n",
       "3    2014       9   ...          9         2       0.0  120.35    279738   \n",
       "4    2014      10   ...         10         4       0.0  109.95    281309   \n",
       "\n",
       "  mtype_sec        ev_code age_tp  age_ta  age_gr  \n",
       "0    LEAGUE   EOKI0000015D     41      35   40-44  \n",
       "1    SOCCER    EMVC2015706     35      30   35-39  \n",
       "2       AFL  ESSW0000014QF     25      22   25-29  \n",
       "3       AFL  ESSW0000014QF     24      13   18-24  \n",
       "4    SOCCER    ECMR2014906     43      42   40-44  \n",
       "\n",
       "[5 rows x 21 columns]"
      ]
     },
     "execution_count": 10,
     "metadata": {},
     "output_type": "execute_result"
    }
   ],
   "source": [
    "d.head()"
   ]
  },
  {
   "cell_type": "code",
   "execution_count": 11,
   "metadata": {},
   "outputs": [
    {
     "data": {
      "text/html": [
       "<div>\n",
       "<table border=\"1\" class=\"dataframe\">\n",
       "  <thead>\n",
       "    <tr style=\"text-align: right;\">\n",
       "      <th></th>\n",
       "      <th>age_gr</th>\n",
       "      <th>mtype_sec_5060S</th>\n",
       "      <th>mtype_sec_70SPOP</th>\n",
       "      <th>mtype_sec_70SROCK</th>\n",
       "      <th>mtype_sec_80SPOP</th>\n",
       "      <th>mtype_sec_80SROCK</th>\n",
       "      <th>mtype_sec_90SPOP</th>\n",
       "      <th>mtype_sec_90SROCK</th>\n",
       "      <th>mtype_sec_AFL</th>\n",
       "      <th>mtype_sec_ALTERN</th>\n",
       "      <th>...</th>\n",
       "      <th>mtype_sec_RNB</th>\n",
       "      <th>mtype_sec_ROCK</th>\n",
       "      <th>mtype_sec_RUNION</th>\n",
       "      <th>mtype_sec_SCHOOL</th>\n",
       "      <th>mtype_sec_SENIOR</th>\n",
       "      <th>mtype_sec_SFCOMEDY</th>\n",
       "      <th>mtype_sec_SFMUSIC</th>\n",
       "      <th>mtype_sec_SOCCER</th>\n",
       "      <th>mtype_sec_STANDUPC</th>\n",
       "      <th>mtype_sec_TENNIS</th>\n",
       "    </tr>\n",
       "  </thead>\n",
       "  <tbody>\n",
       "    <tr>\n",
       "      <th>0</th>\n",
       "      <td>40-44</td>\n",
       "      <td>0</td>\n",
       "      <td>0</td>\n",
       "      <td>0</td>\n",
       "      <td>0</td>\n",
       "      <td>0</td>\n",
       "      <td>0</td>\n",
       "      <td>0</td>\n",
       "      <td>0</td>\n",
       "      <td>0</td>\n",
       "      <td>...</td>\n",
       "      <td>0</td>\n",
       "      <td>0</td>\n",
       "      <td>0</td>\n",
       "      <td>0</td>\n",
       "      <td>0</td>\n",
       "      <td>0</td>\n",
       "      <td>0</td>\n",
       "      <td>0</td>\n",
       "      <td>0</td>\n",
       "      <td>0</td>\n",
       "    </tr>\n",
       "    <tr>\n",
       "      <th>1</th>\n",
       "      <td>35-39</td>\n",
       "      <td>0</td>\n",
       "      <td>0</td>\n",
       "      <td>0</td>\n",
       "      <td>0</td>\n",
       "      <td>0</td>\n",
       "      <td>0</td>\n",
       "      <td>0</td>\n",
       "      <td>0</td>\n",
       "      <td>0</td>\n",
       "      <td>...</td>\n",
       "      <td>0</td>\n",
       "      <td>0</td>\n",
       "      <td>0</td>\n",
       "      <td>0</td>\n",
       "      <td>0</td>\n",
       "      <td>0</td>\n",
       "      <td>0</td>\n",
       "      <td>1</td>\n",
       "      <td>0</td>\n",
       "      <td>0</td>\n",
       "    </tr>\n",
       "    <tr>\n",
       "      <th>2</th>\n",
       "      <td>25-29</td>\n",
       "      <td>0</td>\n",
       "      <td>0</td>\n",
       "      <td>0</td>\n",
       "      <td>0</td>\n",
       "      <td>0</td>\n",
       "      <td>0</td>\n",
       "      <td>0</td>\n",
       "      <td>1</td>\n",
       "      <td>0</td>\n",
       "      <td>...</td>\n",
       "      <td>0</td>\n",
       "      <td>0</td>\n",
       "      <td>0</td>\n",
       "      <td>0</td>\n",
       "      <td>0</td>\n",
       "      <td>0</td>\n",
       "      <td>0</td>\n",
       "      <td>0</td>\n",
       "      <td>0</td>\n",
       "      <td>0</td>\n",
       "    </tr>\n",
       "    <tr>\n",
       "      <th>3</th>\n",
       "      <td>18-24</td>\n",
       "      <td>0</td>\n",
       "      <td>0</td>\n",
       "      <td>0</td>\n",
       "      <td>0</td>\n",
       "      <td>0</td>\n",
       "      <td>0</td>\n",
       "      <td>0</td>\n",
       "      <td>1</td>\n",
       "      <td>0</td>\n",
       "      <td>...</td>\n",
       "      <td>0</td>\n",
       "      <td>0</td>\n",
       "      <td>0</td>\n",
       "      <td>0</td>\n",
       "      <td>0</td>\n",
       "      <td>0</td>\n",
       "      <td>0</td>\n",
       "      <td>0</td>\n",
       "      <td>0</td>\n",
       "      <td>0</td>\n",
       "    </tr>\n",
       "    <tr>\n",
       "      <th>4</th>\n",
       "      <td>40-44</td>\n",
       "      <td>0</td>\n",
       "      <td>0</td>\n",
       "      <td>0</td>\n",
       "      <td>0</td>\n",
       "      <td>0</td>\n",
       "      <td>0</td>\n",
       "      <td>0</td>\n",
       "      <td>0</td>\n",
       "      <td>0</td>\n",
       "      <td>...</td>\n",
       "      <td>0</td>\n",
       "      <td>0</td>\n",
       "      <td>0</td>\n",
       "      <td>0</td>\n",
       "      <td>0</td>\n",
       "      <td>0</td>\n",
       "      <td>0</td>\n",
       "      <td>1</td>\n",
       "      <td>0</td>\n",
       "      <td>0</td>\n",
       "    </tr>\n",
       "  </tbody>\n",
       "</table>\n",
       "<p>5 rows × 46 columns</p>\n",
       "</div>"
      ],
      "text/plain": [
       "  age_gr  mtype_sec_5060S  mtype_sec_70SPOP  mtype_sec_70SROCK  \\\n",
       "0  40-44                0                 0                  0   \n",
       "1  35-39                0                 0                  0   \n",
       "2  25-29                0                 0                  0   \n",
       "3  18-24                0                 0                  0   \n",
       "4  40-44                0                 0                  0   \n",
       "\n",
       "   mtype_sec_80SPOP  mtype_sec_80SROCK  mtype_sec_90SPOP  mtype_sec_90SROCK  \\\n",
       "0                 0                  0                 0                  0   \n",
       "1                 0                  0                 0                  0   \n",
       "2                 0                  0                 0                  0   \n",
       "3                 0                  0                 0                  0   \n",
       "4                 0                  0                 0                  0   \n",
       "\n",
       "   mtype_sec_AFL  mtype_sec_ALTERN        ...         mtype_sec_RNB  \\\n",
       "0              0                 0        ...                     0   \n",
       "1              0                 0        ...                     0   \n",
       "2              1                 0        ...                     0   \n",
       "3              1                 0        ...                     0   \n",
       "4              0                 0        ...                     0   \n",
       "\n",
       "   mtype_sec_ROCK  mtype_sec_RUNION  mtype_sec_SCHOOL  mtype_sec_SENIOR  \\\n",
       "0               0                 0                 0                 0   \n",
       "1               0                 0                 0                 0   \n",
       "2               0                 0                 0                 0   \n",
       "3               0                 0                 0                 0   \n",
       "4               0                 0                 0                 0   \n",
       "\n",
       "   mtype_sec_SFCOMEDY  mtype_sec_SFMUSIC  mtype_sec_SOCCER  \\\n",
       "0                   0                  0                 0   \n",
       "1                   0                  0                 1   \n",
       "2                   0                  0                 0   \n",
       "3                   0                  0                 0   \n",
       "4                   0                  0                 1   \n",
       "\n",
       "   mtype_sec_STANDUPC  mtype_sec_TENNIS  \n",
       "0                   0                 0  \n",
       "1                   0                 0  \n",
       "2                   0                 0  \n",
       "3                   0                 0  \n",
       "4                   0                 0  \n",
       "\n",
       "[5 rows x 46 columns]"
      ]
     },
     "execution_count": 11,
     "metadata": {},
     "output_type": "execute_result"
    }
   ],
   "source": [
    "d1 = pd.get_dummies(d[[\"mtype_sec\",\"age_gr\"]], columns=[\"mtype_sec\"])\n",
    "d1.head()"
   ]
  },
  {
   "cell_type": "code",
   "execution_count": 12,
   "metadata": {},
   "outputs": [
    {
     "data": {
      "text/plain": [
       "(18609023, 46)"
      ]
     },
     "execution_count": 12,
     "metadata": {},
     "output_type": "execute_result"
    }
   ],
   "source": [
    "d1.shape"
   ]
  },
  {
   "cell_type": "code",
   "execution_count": 13,
   "metadata": {
    "collapsed": true
   },
   "outputs": [],
   "source": [
    "from sklearn.model_selection import train_test_split\n",
    "from sklearn.naive_bayes import BernoulliNB\n",
    "from sklearn.preprocessing import LabelEncoder"
   ]
  },
  {
   "cell_type": "code",
   "execution_count": 14,
   "metadata": {
    "collapsed": true
   },
   "outputs": [],
   "source": [
    "# le = LabelEncoder()"
   ]
  },
  {
   "cell_type": "code",
   "execution_count": 15,
   "metadata": {},
   "outputs": [
    {
     "data": {
      "text/plain": [
       "array(['40-44', '35-39', '25-29', '18-24', '30-34', '60-64', '45-49',\n",
       "       '50-54', '55-59', '00-17', '75-84', '70-74', '65-69'], dtype=object)"
      ]
     },
     "execution_count": 15,
     "metadata": {},
     "output_type": "execute_result"
    }
   ],
   "source": [
    "d1[\"age_gr\"].unique()"
   ]
  },
  {
   "cell_type": "code",
   "execution_count": 16,
   "metadata": {},
   "outputs": [],
   "source": [
    "# le.fit(d1[\"age_gr\"])"
   ]
  },
  {
   "cell_type": "code",
   "execution_count": 17,
   "metadata": {},
   "outputs": [],
   "source": [
    "# le.classes_"
   ]
  },
  {
   "cell_type": "code",
   "execution_count": 18,
   "metadata": {
    "collapsed": true
   },
   "outputs": [],
   "source": [
    "X_train, X_test, y_train, y_test = train_test_split(d1.drop(\"age_gr\", axis=1), d1[\"age_gr\"], \n",
    "                                                    test_size=0.3, random_state=94, stratify=d1[\"age_gr\"])"
   ]
  },
  {
   "cell_type": "code",
   "execution_count": 19,
   "metadata": {},
   "outputs": [
    {
     "name": "stdout",
     "output_type": "stream",
     "text": [
      "created training data - features (13026316, 45) and target (13026316,)\n"
     ]
    }
   ],
   "source": [
    "print(\"created training data - features {} and target {}\".format(X_train.shape, y_train.shape))"
   ]
  },
  {
   "cell_type": "code",
   "execution_count": 23,
   "metadata": {},
   "outputs": [
    {
     "data": {
      "text/plain": [
       "BernoulliNB(alpha=1.0, binarize=0.0, class_prior=None, fit_prior=True)"
      ]
     },
     "execution_count": 23,
     "metadata": {},
     "output_type": "execute_result"
    }
   ],
   "source": [
    "gnb = BernoulliNB()\n",
    "gnb.fit(X_train, y_train)"
   ]
  },
  {
   "cell_type": "code",
   "execution_count": 24,
   "metadata": {},
   "outputs": [
    {
     "name": "stdout",
     "output_type": "stream",
     "text": [
      "accuracy: 0.181\n",
      "cross-validation scores: 0.1811854433513609, 0.18126248912778964, 0.1810515867303992, 0.1807682076906749, 0.18100011591942142\n"
     ]
    }
   ],
   "source": [
    "from sklearn.metrics import accuracy_score\n",
    "from sklearn.model_selection import cross_val_score\n",
    "print(\"accuracy: {:.3f}\".format(accuracy_score(y_test, gnb.predict(X_test))))\n",
    "scores = cross_val_score(gnb, X_train, y_train, cv=5)\n",
    "print(\"cross-validation scores: {}, {}, {}, {}, {}\".format(*scores))"
   ]
  },
  {
   "cell_type": "code",
   "execution_count": 11,
   "metadata": {
    "collapsed": true
   },
   "outputs": [],
   "source": [
    "\n",
    "\n",
    "# t0 = time.time()\n",
    "# d1 = d[[\"mj_tnum\",\"mtype_sec\",\"paid_tix\"]].groupby([\"mj_tnum\",\"mtype_sec\"]).agg([\"count\",\"sum\"])\n",
    "# d1.columns = [\"_\".join(col_tpl) for col_tpl in d1.columns.values]\n",
    "# d1[\"paid_for\"] = pd.Series([tpl[1] for tpl in d1.index.values], index=d1.index, dtype=str)\n",
    "# d1 = pd.get_dummies(d1)\n",
    "# d1.index = d1.index.droplevel(1)\n",
    "# d1 = d1.drop([\"paid_tix_count\",\"paid_tix_sum\"], axis=1)\n",
    "# t1 = time.time()\n",
    "# print(\"elapsed time: {:.0f} m {:.0f} s\".format(*divmod(t1-t0,60)))"
   ]
  },
  {
   "cell_type": "code",
   "execution_count": null,
   "metadata": {
    "collapsed": true
   },
   "outputs": [],
   "source": []
  }
 ],
 "metadata": {
  "kernelspec": {
   "display_name": "Python 3",
   "language": "python",
   "name": "python3"
  },
  "language_info": {
   "codemirror_mode": {
    "name": "ipython",
    "version": 3
   },
   "file_extension": ".py",
   "mimetype": "text/x-python",
   "name": "python",
   "nbconvert_exporter": "python",
   "pygments_lexer": "ipython3",
   "version": "3.6.1"
  }
 },
 "nbformat": 4,
 "nbformat_minor": 2
}
