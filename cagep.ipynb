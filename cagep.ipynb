{
 "cells": [
  {
   "cell_type": "code",
   "execution_count": 14,
   "metadata": {
    "collapsed": true
   },
   "outputs": [],
   "source": [
    "import pandas as pd\n",
    "import time\n",
    "from collections import defaultdict, Counter\n",
    "from itertools import product\n",
    "import numpy as np"
   ]
  },
  {
   "cell_type": "code",
   "execution_count": 2,
   "metadata": {
    "collapsed": true
   },
   "outputs": [],
   "source": [
    "g = pd.read_csv(\"data/attendances_over_time.csv.gz\", encoding='latin-1', \n",
    "                header=None, names=[\"cust_id\",\"age_gr\",\"mtype_sec\", \"n_attend\"])"
   ]
  },
  {
   "cell_type": "code",
   "execution_count": 3,
   "metadata": {},
   "outputs": [
    {
     "data": {
      "text/html": [
       "<div>\n",
       "<table border=\"1\" class=\"dataframe\">\n",
       "  <thead>\n",
       "    <tr style=\"text-align: right;\">\n",
       "      <th></th>\n",
       "      <th>cust_id</th>\n",
       "      <th>age_gr</th>\n",
       "      <th>mtype_sec</th>\n",
       "      <th>n_attend</th>\n",
       "    </tr>\n",
       "  </thead>\n",
       "  <tbody>\n",
       "    <tr>\n",
       "      <th>0</th>\n",
       "      <td>11168</td>\n",
       "      <td>50-54</td>\n",
       "      <td>RUNION</td>\n",
       "      <td>1</td>\n",
       "    </tr>\n",
       "    <tr>\n",
       "      <th>1</th>\n",
       "      <td>11171</td>\n",
       "      <td>50-54</td>\n",
       "      <td>RUNION</td>\n",
       "      <td>1</td>\n",
       "    </tr>\n",
       "    <tr>\n",
       "      <th>2</th>\n",
       "      <td>11179</td>\n",
       "      <td>60-64</td>\n",
       "      <td>FOLK</td>\n",
       "      <td>1</td>\n",
       "    </tr>\n",
       "    <tr>\n",
       "      <th>3</th>\n",
       "      <td>11179</td>\n",
       "      <td>60-64</td>\n",
       "      <td>AFL</td>\n",
       "      <td>5</td>\n",
       "    </tr>\n",
       "    <tr>\n",
       "      <th>4</th>\n",
       "      <td>11181</td>\n",
       "      <td>55-59</td>\n",
       "      <td>RUNION</td>\n",
       "      <td>24</td>\n",
       "    </tr>\n",
       "  </tbody>\n",
       "</table>\n",
       "</div>"
      ],
      "text/plain": [
       "   cust_id age_gr mtype_sec  n_attend\n",
       "0    11168  50-54    RUNION         1\n",
       "1    11171  50-54    RUNION         1\n",
       "2    11179  60-64      FOLK         1\n",
       "3    11179  60-64       AFL         5\n",
       "4    11181  55-59    RUNION        24"
      ]
     },
     "execution_count": 3,
     "metadata": {},
     "output_type": "execute_result"
    }
   ],
   "source": [
    "g.head()"
   ]
  },
  {
   "cell_type": "code",
   "execution_count": 4,
   "metadata": {
    "collapsed": true
   },
   "outputs": [],
   "source": [
    "g_purch_byage = g.groupby([\"cust_id\", \"age_gr\"])[\"mtype_sec\"].apply(list)  # obtain a Series wit Multi Index"
   ]
  },
  {
   "cell_type": "code",
   "execution_count": 5,
   "metadata": {
    "collapsed": true
   },
   "outputs": [],
   "source": [
    "g_age_gr_each_customer = g.groupby([\"cust_id\"])[\"age_gr\"].apply(set).apply(list).apply(sorted)  # note: sorting is done by groupby"
   ]
  },
  {
   "cell_type": "code",
   "execution_count": 6,
   "metadata": {
    "collapsed": true
   },
   "outputs": [],
   "source": [
    "cust_longterm = g_age_gr_each_customer.loc[g_age_gr_each_customer.apply(lambda x: True if len(x) > 1 else False)].index.values\n",
    "cust_shortterm = g_age_gr_each_customer.loc[g_age_gr_each_customer.apply(lambda x: True if len(x) == 1 else False)].index.values"
   ]
  },
  {
   "cell_type": "code",
   "execution_count": 7,
   "metadata": {},
   "outputs": [
    {
     "name": "stdout",
     "output_type": "stream",
     "text": [
      "longterm customers: 1442937, shortterm cutomers: 4494603\n"
     ]
    }
   ],
   "source": [
    "print(\"longterm customers: {}, shortterm cutomers: {}\".format(len(cust_longterm), len(cust_shortterm)))"
   ]
  },
  {
   "cell_type": "markdown",
   "metadata": {},
   "source": [
    "Create feature for the shortterm customers. These will be plain binary features showing whother a customer purchesed a particular mtype."
   ]
  },
  {
   "cell_type": "code",
   "execution_count": 8,
   "metadata": {},
   "outputs": [
    {
     "data": {
      "text/html": [
       "<div>\n",
       "<table border=\"1\" class=\"dataframe\">\n",
       "  <thead>\n",
       "    <tr style=\"text-align: right;\">\n",
       "      <th></th>\n",
       "      <th></th>\n",
       "      <th>mtype_sec_5060S</th>\n",
       "      <th>mtype_sec_70SPOP</th>\n",
       "      <th>mtype_sec_70SROCK</th>\n",
       "      <th>mtype_sec_80SPOP</th>\n",
       "      <th>mtype_sec_80SROCK</th>\n",
       "      <th>mtype_sec_90SPOP</th>\n",
       "      <th>mtype_sec_90SROCK</th>\n",
       "      <th>mtype_sec_AFL</th>\n",
       "      <th>mtype_sec_ALTERN</th>\n",
       "      <th>mtype_sec_AWARDS</th>\n",
       "      <th>...</th>\n",
       "      <th>mtype_sec_RNB</th>\n",
       "      <th>mtype_sec_ROCK</th>\n",
       "      <th>mtype_sec_RUNION</th>\n",
       "      <th>mtype_sec_SCHOOL</th>\n",
       "      <th>mtype_sec_SENIOR</th>\n",
       "      <th>mtype_sec_SFCOMEDY</th>\n",
       "      <th>mtype_sec_SFMUSIC</th>\n",
       "      <th>mtype_sec_SOCCER</th>\n",
       "      <th>mtype_sec_STANDUPC</th>\n",
       "      <th>mtype_sec_TENNIS</th>\n",
       "    </tr>\n",
       "    <tr>\n",
       "      <th>cust_id</th>\n",
       "      <th>age_gr</th>\n",
       "      <th></th>\n",
       "      <th></th>\n",
       "      <th></th>\n",
       "      <th></th>\n",
       "      <th></th>\n",
       "      <th></th>\n",
       "      <th></th>\n",
       "      <th></th>\n",
       "      <th></th>\n",
       "      <th></th>\n",
       "      <th></th>\n",
       "      <th></th>\n",
       "      <th></th>\n",
       "      <th></th>\n",
       "      <th></th>\n",
       "      <th></th>\n",
       "      <th></th>\n",
       "      <th></th>\n",
       "      <th></th>\n",
       "      <th></th>\n",
       "      <th></th>\n",
       "    </tr>\n",
       "  </thead>\n",
       "  <tbody>\n",
       "    <tr>\n",
       "      <th>11168</th>\n",
       "      <th>50-54</th>\n",
       "      <td>0</td>\n",
       "      <td>0</td>\n",
       "      <td>0</td>\n",
       "      <td>0</td>\n",
       "      <td>0</td>\n",
       "      <td>0</td>\n",
       "      <td>0</td>\n",
       "      <td>0</td>\n",
       "      <td>0</td>\n",
       "      <td>0</td>\n",
       "      <td>...</td>\n",
       "      <td>0</td>\n",
       "      <td>0</td>\n",
       "      <td>1</td>\n",
       "      <td>0</td>\n",
       "      <td>0</td>\n",
       "      <td>0</td>\n",
       "      <td>0</td>\n",
       "      <td>0</td>\n",
       "      <td>0</td>\n",
       "      <td>0</td>\n",
       "    </tr>\n",
       "    <tr>\n",
       "      <th>11171</th>\n",
       "      <th>50-54</th>\n",
       "      <td>0</td>\n",
       "      <td>0</td>\n",
       "      <td>0</td>\n",
       "      <td>0</td>\n",
       "      <td>0</td>\n",
       "      <td>0</td>\n",
       "      <td>0</td>\n",
       "      <td>0</td>\n",
       "      <td>0</td>\n",
       "      <td>0</td>\n",
       "      <td>...</td>\n",
       "      <td>0</td>\n",
       "      <td>0</td>\n",
       "      <td>1</td>\n",
       "      <td>0</td>\n",
       "      <td>0</td>\n",
       "      <td>0</td>\n",
       "      <td>0</td>\n",
       "      <td>0</td>\n",
       "      <td>0</td>\n",
       "      <td>0</td>\n",
       "    </tr>\n",
       "    <tr>\n",
       "      <th>11179</th>\n",
       "      <th>60-64</th>\n",
       "      <td>0</td>\n",
       "      <td>0</td>\n",
       "      <td>0</td>\n",
       "      <td>0</td>\n",
       "      <td>0</td>\n",
       "      <td>0</td>\n",
       "      <td>0</td>\n",
       "      <td>1</td>\n",
       "      <td>0</td>\n",
       "      <td>0</td>\n",
       "      <td>...</td>\n",
       "      <td>0</td>\n",
       "      <td>0</td>\n",
       "      <td>0</td>\n",
       "      <td>0</td>\n",
       "      <td>0</td>\n",
       "      <td>0</td>\n",
       "      <td>0</td>\n",
       "      <td>0</td>\n",
       "      <td>0</td>\n",
       "      <td>0</td>\n",
       "    </tr>\n",
       "    <tr>\n",
       "      <th>11181</th>\n",
       "      <th>55-59</th>\n",
       "      <td>0</td>\n",
       "      <td>0</td>\n",
       "      <td>0</td>\n",
       "      <td>0</td>\n",
       "      <td>0</td>\n",
       "      <td>0</td>\n",
       "      <td>0</td>\n",
       "      <td>0</td>\n",
       "      <td>0</td>\n",
       "      <td>0</td>\n",
       "      <td>...</td>\n",
       "      <td>0</td>\n",
       "      <td>0</td>\n",
       "      <td>1</td>\n",
       "      <td>0</td>\n",
       "      <td>0</td>\n",
       "      <td>0</td>\n",
       "      <td>0</td>\n",
       "      <td>0</td>\n",
       "      <td>0</td>\n",
       "      <td>0</td>\n",
       "    </tr>\n",
       "    <tr>\n",
       "      <th>11197</th>\n",
       "      <th>50-54</th>\n",
       "      <td>0</td>\n",
       "      <td>0</td>\n",
       "      <td>0</td>\n",
       "      <td>0</td>\n",
       "      <td>0</td>\n",
       "      <td>0</td>\n",
       "      <td>0</td>\n",
       "      <td>0</td>\n",
       "      <td>0</td>\n",
       "      <td>0</td>\n",
       "      <td>...</td>\n",
       "      <td>0</td>\n",
       "      <td>0</td>\n",
       "      <td>1</td>\n",
       "      <td>0</td>\n",
       "      <td>0</td>\n",
       "      <td>0</td>\n",
       "      <td>0</td>\n",
       "      <td>0</td>\n",
       "      <td>0</td>\n",
       "      <td>0</td>\n",
       "    </tr>\n",
       "  </tbody>\n",
       "</table>\n",
       "<p>5 rows × 45 columns</p>\n",
       "</div>"
      ],
      "text/plain": [
       "                mtype_sec_5060S  mtype_sec_70SPOP  mtype_sec_70SROCK  \\\n",
       "cust_id age_gr                                                         \n",
       "11168   50-54                 0                 0                  0   \n",
       "11171   50-54                 0                 0                  0   \n",
       "11179   60-64                 0                 0                  0   \n",
       "11181   55-59                 0                 0                  0   \n",
       "11197   50-54                 0                 0                  0   \n",
       "\n",
       "                mtype_sec_80SPOP  mtype_sec_80SROCK  mtype_sec_90SPOP  \\\n",
       "cust_id age_gr                                                          \n",
       "11168   50-54                  0                  0                 0   \n",
       "11171   50-54                  0                  0                 0   \n",
       "11179   60-64                  0                  0                 0   \n",
       "11181   55-59                  0                  0                 0   \n",
       "11197   50-54                  0                  0                 0   \n",
       "\n",
       "                mtype_sec_90SROCK  mtype_sec_AFL  mtype_sec_ALTERN  \\\n",
       "cust_id age_gr                                                       \n",
       "11168   50-54                   0              0                 0   \n",
       "11171   50-54                   0              0                 0   \n",
       "11179   60-64                   0              1                 0   \n",
       "11181   55-59                   0              0                 0   \n",
       "11197   50-54                   0              0                 0   \n",
       "\n",
       "                mtype_sec_AWARDS        ...         mtype_sec_RNB  \\\n",
       "cust_id age_gr                          ...                         \n",
       "11168   50-54                  0        ...                     0   \n",
       "11171   50-54                  0        ...                     0   \n",
       "11179   60-64                  0        ...                     0   \n",
       "11181   55-59                  0        ...                     0   \n",
       "11197   50-54                  0        ...                     0   \n",
       "\n",
       "                mtype_sec_ROCK  mtype_sec_RUNION  mtype_sec_SCHOOL  \\\n",
       "cust_id age_gr                                                       \n",
       "11168   50-54                0                 1                 0   \n",
       "11171   50-54                0                 1                 0   \n",
       "11179   60-64                0                 0                 0   \n",
       "11181   55-59                0                 1                 0   \n",
       "11197   50-54                0                 1                 0   \n",
       "\n",
       "                mtype_sec_SENIOR  mtype_sec_SFCOMEDY  mtype_sec_SFMUSIC  \\\n",
       "cust_id age_gr                                                            \n",
       "11168   50-54                  0                   0                  0   \n",
       "11171   50-54                  0                   0                  0   \n",
       "11179   60-64                  0                   0                  0   \n",
       "11181   55-59                  0                   0                  0   \n",
       "11197   50-54                  0                   0                  0   \n",
       "\n",
       "                mtype_sec_SOCCER  mtype_sec_STANDUPC  mtype_sec_TENNIS  \n",
       "cust_id age_gr                                                          \n",
       "11168   50-54                  0                   0                 0  \n",
       "11171   50-54                  0                   0                 0  \n",
       "11179   60-64                  0                   0                 0  \n",
       "11181   55-59                  0                   0                 0  \n",
       "11197   50-54                  0                   0                 0  \n",
       "\n",
       "[5 rows x 45 columns]"
      ]
     },
     "execution_count": 8,
     "metadata": {},
     "output_type": "execute_result"
    }
   ],
   "source": [
    "feat_sht_customers = pd.get_dummies(g.loc[g[\"cust_id\"].isin(cust_shortterm), [\"cust_id\", \"mtype_sec\",\"age_gr\"]], columns=[\"mtype_sec\"]).groupby([\"cust_id\", \"age_gr\"]).sum()\n",
    "feat_sht_customers.head()"
   ]
  },
  {
   "cell_type": "code",
   "execution_count": 9,
   "metadata": {},
   "outputs": [
    {
     "data": {
      "text/plain": [
       "(4494603, 45)"
      ]
     },
     "execution_count": 9,
     "metadata": {},
     "output_type": "execute_result"
    }
   ],
   "source": [
    "feat_sht_customers.shape"
   ]
  },
  {
   "cell_type": "code",
   "execution_count": 10,
   "metadata": {},
   "outputs": [
    {
     "data": {
      "text/html": [
       "<div>\n",
       "<table border=\"1\" class=\"dataframe\">\n",
       "  <thead>\n",
       "    <tr style=\"text-align: right;\">\n",
       "      <th></th>\n",
       "      <th>cust_id</th>\n",
       "      <th>age_gr</th>\n",
       "      <th>mtype_sec</th>\n",
       "      <th>n_attend</th>\n",
       "    </tr>\n",
       "  </thead>\n",
       "  <tbody>\n",
       "    <tr>\n",
       "      <th>5</th>\n",
       "      <td>11196</td>\n",
       "      <td>35-39</td>\n",
       "      <td>AFL</td>\n",
       "      <td>1</td>\n",
       "    </tr>\n",
       "    <tr>\n",
       "      <th>6</th>\n",
       "      <td>11196</td>\n",
       "      <td>30-34</td>\n",
       "      <td>ALTERN</td>\n",
       "      <td>1</td>\n",
       "    </tr>\n",
       "    <tr>\n",
       "      <th>29</th>\n",
       "      <td>11391</td>\n",
       "      <td>65-69</td>\n",
       "      <td>TENNIS</td>\n",
       "      <td>4</td>\n",
       "    </tr>\n",
       "    <tr>\n",
       "      <th>30</th>\n",
       "      <td>11391</td>\n",
       "      <td>60-64</td>\n",
       "      <td>TENNIS</td>\n",
       "      <td>8</td>\n",
       "    </tr>\n",
       "    <tr>\n",
       "      <th>31</th>\n",
       "      <td>11392</td>\n",
       "      <td>60-64</td>\n",
       "      <td>CRICKET</td>\n",
       "      <td>1</td>\n",
       "    </tr>\n",
       "  </tbody>\n",
       "</table>\n",
       "</div>"
      ],
      "text/plain": [
       "    cust_id age_gr mtype_sec  n_attend\n",
       "5     11196  35-39       AFL         1\n",
       "6     11196  30-34    ALTERN         1\n",
       "29    11391  65-69    TENNIS         4\n",
       "30    11391  60-64    TENNIS         8\n",
       "31    11392  60-64   CRICKET         1"
      ]
     },
     "execution_count": 10,
     "metadata": {},
     "output_type": "execute_result"
    }
   ],
   "source": [
    "lt_customers = g.loc[g[\"cust_id\"].isin(cust_longterm),:]\n",
    "lt_customers.head()               "
   ]
  },
  {
   "cell_type": "code",
   "execution_count": 11,
   "metadata": {
    "collapsed": true
   },
   "outputs": [],
   "source": [
    "f = defaultdict(lambda: defaultdict(int))  # {cust_id: {\"AFL->BALLET\": 1, \"TENNIS->COMEDY\": 1}}"
   ]
  },
  {
   "cell_type": "code",
   "execution_count": 12,
   "metadata": {},
   "outputs": [
    {
     "data": {
      "text/plain": [
       "cust_id\n",
       "11196    [30-34, 35-39]\n",
       "11391    [60-64, 65-69]\n",
       "11392    [55-59, 60-64]\n",
       "11485    [45-49, 50-54]\n",
       "11581    [50-54, 55-59]\n",
       "Name: age_gr, dtype: object"
      ]
     },
     "execution_count": 12,
     "metadata": {},
     "output_type": "execute_result"
    }
   ],
   "source": [
    "g_age_gr_each_customer_longterm = g_age_gr_each_customer.loc[g_age_gr_each_customer.index.isin(cust_longterm)]\n",
    "g_age_gr_each_customer_longterm.head()"
   ]
  },
  {
   "cell_type": "code",
   "execution_count": 15,
   "metadata": {},
   "outputs": [
    {
     "ename": "NameError",
     "evalue": "name 'itertuples' is not defined",
     "output_type": "error",
     "traceback": [
      "\u001b[0;31m---------------------------------------------------------------------------\u001b[0m",
      "\u001b[0;31mRemoteTraceback\u001b[0m                           Traceback (most recent call last)",
      "\u001b[0;31mRemoteTraceback\u001b[0m: \n\"\"\"\nTraceback (most recent call last):\n  File \"/Library/Frameworks/Python.framework/Versions/3.6/lib/python3.6/multiprocessing/pool.py\", line 119, in worker\n    result = (True, func(*args, **kwds))\n  File \"/Library/Frameworks/Python.framework/Versions/3.6/lib/python3.6/multiprocessing/pool.py\", line 44, in mapstar\n    return list(map(*args))\n  File \"<ipython-input-15-7994cfbfdaa5>\", line 13, in xf_subdf\n    for r in itertuples(d0):\nNameError: name 'itertuples' is not defined\n\"\"\"",
      "\nThe above exception was the direct cause of the following exception:\n",
      "\u001b[0;31mNameError\u001b[0m                                 Traceback (most recent call last)",
      "\u001b[0;32m<ipython-input-15-7994cfbfdaa5>\u001b[0m in \u001b[0;36m<module>\u001b[0;34m()\u001b[0m\n\u001b[1;32m     36\u001b[0m     \u001b[0;32mreturn\u001b[0m \u001b[0mdf\u001b[0m\u001b[0;34m\u001b[0m\u001b[0m\n\u001b[1;32m     37\u001b[0m \u001b[0;34m\u001b[0m\u001b[0m\n\u001b[0;32m---> 38\u001b[0;31m \u001b[0mf1\u001b[0m \u001b[0;34m=\u001b[0m \u001b[0mxf_df\u001b[0m\u001b[0;34m(\u001b[0m\u001b[0mg_age_gr_each_customer_longterm\u001b[0m\u001b[0;34m.\u001b[0m\u001b[0mreset_index\u001b[0m\u001b[0;34m(\u001b[0m\u001b[0;34m)\u001b[0m\u001b[0;34m)\u001b[0m\u001b[0;34m\u001b[0m\u001b[0m\n\u001b[0m\u001b[1;32m     39\u001b[0m \u001b[0;34m\u001b[0m\u001b[0m\n\u001b[1;32m     40\u001b[0m \u001b[0mprint\u001b[0m\u001b[0;34m(\u001b[0m\u001b[0;34m\"elapsed time: {:.0f} m {:.0f} s\"\u001b[0m\u001b[0;34m.\u001b[0m\u001b[0mformat\u001b[0m\u001b[0;34m(\u001b[0m\u001b[0;34m*\u001b[0m\u001b[0mdivmod\u001b[0m\u001b[0;34m(\u001b[0m\u001b[0mtime\u001b[0m\u001b[0;34m.\u001b[0m\u001b[0mtime\u001b[0m\u001b[0;34m(\u001b[0m\u001b[0;34m)\u001b[0m\u001b[0;34m-\u001b[0m\u001b[0mt0\u001b[0m\u001b[0;34m,\u001b[0m \u001b[0;36m60\u001b[0m\u001b[0;34m)\u001b[0m\u001b[0;34m)\u001b[0m\u001b[0;34m)\u001b[0m\u001b[0;34m\u001b[0m\u001b[0m\n",
      "\u001b[0;32m<ipython-input-15-7994cfbfdaa5>\u001b[0m in \u001b[0;36mxf_df\u001b[0;34m(d1)\u001b[0m\n\u001b[1;32m     29\u001b[0m     \u001b[0mpool\u001b[0m \u001b[0;34m=\u001b[0m \u001b[0mPool\u001b[0m\u001b[0;34m(\u001b[0m\u001b[0;36m2\u001b[0m\u001b[0;34m)\u001b[0m\u001b[0;34m\u001b[0m\u001b[0m\n\u001b[1;32m     30\u001b[0m \u001b[0;34m\u001b[0m\u001b[0m\n\u001b[0;32m---> 31\u001b[0;31m     \u001b[0mdf\u001b[0m \u001b[0;34m=\u001b[0m \u001b[0mpd\u001b[0m\u001b[0;34m.\u001b[0m\u001b[0mconcat\u001b[0m\u001b[0;34m(\u001b[0m\u001b[0mpool\u001b[0m\u001b[0;34m.\u001b[0m\u001b[0mmap\u001b[0m\u001b[0;34m(\u001b[0m\u001b[0mxf_subdf\u001b[0m\u001b[0;34m,\u001b[0m \u001b[0mdf_split\u001b[0m\u001b[0;34m)\u001b[0m\u001b[0;34m)\u001b[0m\u001b[0;34m\u001b[0m\u001b[0m\n\u001b[0m\u001b[1;32m     32\u001b[0m \u001b[0;34m\u001b[0m\u001b[0m\n\u001b[1;32m     33\u001b[0m     \u001b[0mpool\u001b[0m\u001b[0;34m.\u001b[0m\u001b[0mclose\u001b[0m\u001b[0;34m(\u001b[0m\u001b[0;34m)\u001b[0m\u001b[0;34m\u001b[0m\u001b[0m\n",
      "\u001b[0;32m/Library/Frameworks/Python.framework/Versions/3.6/lib/python3.6/multiprocessing/pool.py\u001b[0m in \u001b[0;36mmap\u001b[0;34m(self, func, iterable, chunksize)\u001b[0m\n\u001b[1;32m    258\u001b[0m         \u001b[0;32min\u001b[0m \u001b[0ma\u001b[0m \u001b[0mlist\u001b[0m \u001b[0mthat\u001b[0m \u001b[0;32mis\u001b[0m \u001b[0mreturned\u001b[0m\u001b[0;34m.\u001b[0m\u001b[0;34m\u001b[0m\u001b[0m\n\u001b[1;32m    259\u001b[0m         '''\n\u001b[0;32m--> 260\u001b[0;31m         \u001b[0;32mreturn\u001b[0m \u001b[0mself\u001b[0m\u001b[0;34m.\u001b[0m\u001b[0m_map_async\u001b[0m\u001b[0;34m(\u001b[0m\u001b[0mfunc\u001b[0m\u001b[0;34m,\u001b[0m \u001b[0miterable\u001b[0m\u001b[0;34m,\u001b[0m \u001b[0mmapstar\u001b[0m\u001b[0;34m,\u001b[0m \u001b[0mchunksize\u001b[0m\u001b[0;34m)\u001b[0m\u001b[0;34m.\u001b[0m\u001b[0mget\u001b[0m\u001b[0;34m(\u001b[0m\u001b[0;34m)\u001b[0m\u001b[0;34m\u001b[0m\u001b[0m\n\u001b[0m\u001b[1;32m    261\u001b[0m \u001b[0;34m\u001b[0m\u001b[0m\n\u001b[1;32m    262\u001b[0m     \u001b[0;32mdef\u001b[0m \u001b[0mstarmap\u001b[0m\u001b[0;34m(\u001b[0m\u001b[0mself\u001b[0m\u001b[0;34m,\u001b[0m \u001b[0mfunc\u001b[0m\u001b[0;34m,\u001b[0m \u001b[0miterable\u001b[0m\u001b[0;34m,\u001b[0m \u001b[0mchunksize\u001b[0m\u001b[0;34m=\u001b[0m\u001b[0;32mNone\u001b[0m\u001b[0;34m)\u001b[0m\u001b[0;34m:\u001b[0m\u001b[0;34m\u001b[0m\u001b[0m\n",
      "\u001b[0;32m/Library/Frameworks/Python.framework/Versions/3.6/lib/python3.6/multiprocessing/pool.py\u001b[0m in \u001b[0;36mget\u001b[0;34m(self, timeout)\u001b[0m\n\u001b[1;32m    606\u001b[0m             \u001b[0;32mreturn\u001b[0m \u001b[0mself\u001b[0m\u001b[0;34m.\u001b[0m\u001b[0m_value\u001b[0m\u001b[0;34m\u001b[0m\u001b[0m\n\u001b[1;32m    607\u001b[0m         \u001b[0;32melse\u001b[0m\u001b[0;34m:\u001b[0m\u001b[0;34m\u001b[0m\u001b[0m\n\u001b[0;32m--> 608\u001b[0;31m             \u001b[0;32mraise\u001b[0m \u001b[0mself\u001b[0m\u001b[0;34m.\u001b[0m\u001b[0m_value\u001b[0m\u001b[0;34m\u001b[0m\u001b[0m\n\u001b[0m\u001b[1;32m    609\u001b[0m \u001b[0;34m\u001b[0m\u001b[0m\n\u001b[1;32m    610\u001b[0m     \u001b[0;32mdef\u001b[0m \u001b[0m_set\u001b[0m\u001b[0;34m(\u001b[0m\u001b[0mself\u001b[0m\u001b[0;34m,\u001b[0m \u001b[0mi\u001b[0m\u001b[0;34m,\u001b[0m \u001b[0mobj\u001b[0m\u001b[0;34m)\u001b[0m\u001b[0;34m:\u001b[0m\u001b[0;34m\u001b[0m\u001b[0m\n",
      "\u001b[0;31mNameError\u001b[0m: name 'itertuples' is not defined"
     ]
    }
   ],
   "source": [
    "from multiprocessing import Pool\n",
    "\n",
    "def xf_subdf(d0):\n",
    "    \"\"\"\n",
    "    here d0 is a DATA FRAME of the form\n",
    "    cust_id\n",
    "    11196    [30-34, 35-39]\n",
    "    11391    [60-64, 65-69]\n",
    "    \"\"\"\n",
    "\n",
    "    f = defaultdict(lambda: defaultdict(int))\n",
    "    \n",
    "    for r in d0.itertuples():\n",
    "        # make \"transition\" feature\n",
    "        f[r.cust_id] = {\"->\".join(tp): 1 for tp in product(*[g_purch_byage[(r.cust_id, ag)] \n",
    "                                                        for ag in d0[row.cust_id]])}\n",
    "        # add age group \n",
    "        f[r.cust_id].update({\"age_gr\": g_age_gr_each_customer[r.cust_id][-1]})\n",
    "    \n",
    "    # create a data frame from dict and return it\n",
    "    return pd.DataFrame.from_dict(f, orient='index').fillna(0)\n",
    "\n",
    "t0 = time.time()\n",
    "\n",
    "def xf_df(d1):\n",
    "    \n",
    "    df_split = np.array_split(d1, 10)\n",
    "    \n",
    "    pool = Pool(2)\n",
    "    \n",
    "    df = pd.concat(pool.map(xf_subdf, df_split))\n",
    "    \n",
    "    pool.close()\n",
    "    pool.join()\n",
    "    \n",
    "    return df\n",
    "\n",
    "f1 = xf_df(g_age_gr_each_customer_longterm.reset_index())\n",
    "\n",
    "print(\"elapsed time: {:.0f} m {:.0f} s\".format(*divmod(time.time()-t0, 60)))"
   ]
  },
  {
   "cell_type": "code",
   "execution_count": null,
   "metadata": {
    "collapsed": true
   },
   "outputs": [],
   "source": [
    "from sklearn.model_selection import train_test_split\n",
    "from sklearn.naive_bayes import BernoulliNB\n",
    "from sklearn.preprocessing import LabelEncoder"
   ]
  },
  {
   "cell_type": "code",
   "execution_count": null,
   "metadata": {
    "collapsed": true
   },
   "outputs": [],
   "source": [
    "X_train, X_test, y_train, y_test = train_test_split(d1.drop(\"age_gr\", axis=1), d1[\"age_gr\"], \n",
    "                                                    test_size=0.3, random_state=94, stratify=d1[\"age_gr\"])"
   ]
  },
  {
   "cell_type": "code",
   "execution_count": null,
   "metadata": {
    "collapsed": true
   },
   "outputs": [],
   "source": [
    "print(\"created training data - features {} and target {}\".format(X_train.shape, y_train.shape))"
   ]
  },
  {
   "cell_type": "code",
   "execution_count": null,
   "metadata": {
    "collapsed": true
   },
   "outputs": [],
   "source": [
    "gnb = BernoulliNB()\n",
    "gnb.fit(X_train, y_train)"
   ]
  },
  {
   "cell_type": "code",
   "execution_count": null,
   "metadata": {
    "collapsed": true
   },
   "outputs": [],
   "source": [
    "from sklearn.metrics import accuracy_score\n",
    "from sklearn.svm import SVC\n",
    "from sklearn.model_selection import cross_val_score\n",
    "\n",
    "svc = SVC(kernel='linear')\n",
    "svc.fit(X_train, y_train)\n",
    "\n",
    "print(\"accuracy: {:.3f}\".format(accuracy_score(y_test, svc.predict(X_test))))\n",
    "scores = cross_val_score(svc, X_train, y_train, cv=5)\n",
    "\n",
    "\n",
    "#print(\"accuracy: {:.3f}\".format(accuracy_score(y_test, gnb.predict(X_test))))\n",
    "# scores = cross_val_score(gnb, X_train, y_train, cv=5)\n",
    "print(\"cross-validation scores: {}, {}, {}, {}, {}\".format(*scores))"
   ]
  }
 ],
 "metadata": {
  "kernelspec": {
   "display_name": "Python 3",
   "language": "python",
   "name": "python3"
  },
  "language_info": {
   "codemirror_mode": {
    "name": "ipython",
    "version": 3
   },
   "file_extension": ".py",
   "mimetype": "text/x-python",
   "name": "python",
   "nbconvert_exporter": "python",
   "pygments_lexer": "ipython3",
   "version": "3.6.1"
  }
 },
 "nbformat": 4,
 "nbformat_minor": 2
}
